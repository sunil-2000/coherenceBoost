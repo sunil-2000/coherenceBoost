{
  "cells": [
    {
      "cell_type": "code",
      "execution_count": 1,
      "metadata": {
        "colab": {
          "base_uri": "https://localhost:8080/",
          "height": 122,
          "referenced_widgets": [
            "88c2cf7cfeef426fb83425e7645b41ee",
            "89dcf46161474131b94916f37268c9fb",
            "62854ac01723457389dac024f3cf2cf6",
            "9b9fc6012597439ab10c59a5c72168c9",
            "b5cd478e25744b5bb6d8de442d4ba997",
            "6c943f0e37044b2fb6f4075b51c69d79",
            "5b542e443bad43d387ec7e7bf82ace1e",
            "cabbae3b616645c3bfddfef3f1854cfb",
            "f388ebebd1404f87be6e5894c40daad9",
            "a45c6526c9384f3c86c0d9822309d5fa",
            "7a43da6d2ef745349b1cc4585124fdfa"
          ]
        },
        "id": "oerVCFS02MNO",
        "outputId": "3da9e75b-984e-48ef-9ffe-5a5656e60901"
      },
      "outputs": [
        {
          "name": "stderr",
          "output_type": "stream",
          "text": [
            "WARNING:datasets.builder:No config specified, defaulting to: lambada_openai/default\n",
            "WARNING:datasets.builder:Found cached dataset lambada_openai (/root/.cache/huggingface/datasets/EleutherAI___lambada_openai/default/1.0.0/57baddecfa09d1790541ef07274c5666abfbe9d2ccd0cd46013cd557b0343095)\n"
          ]
        },
        {
          "data": {
            "application/vnd.jupyter.widget-view+json": {
              "model_id": "88c2cf7cfeef426fb83425e7645b41ee",
              "version_major": 2,
              "version_minor": 0
            },
            "text/plain": [
              "  0%|          | 0/1 [00:00<?, ?it/s]"
            ]
          },
          "metadata": {},
          "output_type": "display_data"
        },
        {
          "name": "stderr",
          "output_type": "stream",
          "text": [
            "WARNING:datasets.arrow_dataset:Loading cached processed dataset at /root/.cache/huggingface/datasets/EleutherAI___lambada_openai/default/1.0.0/57baddecfa09d1790541ef07274c5666abfbe9d2ccd0cd46013cd557b0343095/cache-054aabd84a4cc8d7.arrow\n"
          ]
        }
      ],
      "source": [
        "from datasets import load_dataset\n",
        "from cb import CB\n",
        "from util import *\n",
        "\n",
        "# load dataset\n",
        "lambada = load_dataset(\"EleutherAI/lambada_openai\")\n",
        "test_set = lambada['test'].map(extract_label)\n",
        "X, Y = test_set['feat'], test_set['label']\n",
        "\n",
        "# load boosted model\n",
        "alpha = -0.6\n",
        "k = 10\n",
        "\n",
        "cb_model = CB(alpha, k)"
      ]
    },
    {
      "cell_type": "markdown",
      "metadata": {
        "id": "c3OBN4nKZlyL"
      },
      "source": [
        "### without beam search"
      ]
    },
    {
      "cell_type": "code",
      "execution_count": 2,
      "metadata": {
        "colab": {
          "base_uri": "https://localhost:8080/"
        },
        "id": "Ngi8wvtfZFXw",
        "outputId": "04ecc475-d001-4aa2-c161-a69f91f952a3"
      },
      "outputs": [
        {
          "name": "stderr",
          "output_type": "stream",
          "text": [
            "100%|██████████| 162/162 [01:43<00:00,  1.57it/s]\n"
          ]
        }
      ],
      "source": [
        "y_pred_boosted, y_pred = cb_model.boosted_batched_generate(X, batch_size=32, fmax_score=True)"
      ]
    },
    {
      "attachments": {},
      "cell_type": "markdown",
      "metadata": {
        "id": "mUzX0SEEZpYE"
      },
      "source": [
        "### with beam search, beam_width=5"
      ]
    },
    {
      "cell_type": "code",
      "execution_count": 15,
      "metadata": {
        "colab": {
          "base_uri": "https://localhost:8080/"
        },
        "id": "HEc5oH74ZrGP",
        "outputId": "19531f97-ab1b-4f21-b4df-209a70e3bb6a"
      },
      "outputs": [
        {
          "name": "stderr",
          "output_type": "stream",
          "text": [
            "100%|██████████| 162/162 [01:42<00:00,  1.59it/s]\n"
          ]
        }
      ],
      "source": [
        "y_pred_boosted_beam, y_pred_beam = cb_model.boosted_batched_generate(X, batch_size=32, fmax_score=True, beam_width=5)"
      ]
    },
    {
      "cell_type": "code",
      "execution_count": 4,
      "metadata": {
        "id": "BDr-uHelZvwv"
      },
      "outputs": [],
      "source": [
        "y_tokenized = cb_model.tokenize_label(Y)\n",
        "y_tokenized_rev = [cb_model.tokenizer(i)[\"input_ids\"][-1] for i in Y]"
      ]
    },
    {
      "cell_type": "markdown",
      "metadata": {
        "id": "k2m-YmefZufP"
      },
      "source": [
        "### last word accuracy"
      ]
    },
    {
      "cell_type": "code",
      "execution_count": 5,
      "metadata": {
        "colab": {
          "base_uri": "https://localhost:8080/"
        },
        "id": "G_b_vAqNbT9W",
        "outputId": "5e84fe2b-d8f8-426a-adf1-6408d78c8824"
      },
      "outputs": [
        {
          "name": "stdout",
          "output_type": "stream",
          "text": [
            "last word accuracy (GPT): 0.2507277314185911\n",
            "last word accuracy (boosted GPT): 0.4370269745779158\n"
          ]
        }
      ],
      "source": [
        "lw_acc = last_word_accuracy(cb_model, y_pred, Y)\n",
        "lw_acc_boost = last_word_accuracy(cb_model, y_pred_boosted, Y)\n",
        "print(f\"last word accuracy (GPT): {lw_acc}\\nlast word accuracy (boosted GPT): {lw_acc_boost}\")"
      ]
    },
    {
      "cell_type": "markdown",
      "metadata": {
        "id": "AGry14LEZxwf"
      },
      "source": [
        "### first and last subtoken of last word accuracy"
      ]
    },
    {
      "cell_type": "code",
      "execution_count": 25,
      "metadata": {
        "colab": {
          "base_uri": "https://localhost:8080/"
        },
        "id": "85QBQpD9ZywD",
        "outputId": "52753be0-bd79-4058-c9fa-ab4d47556288"
      },
      "outputs": [
        {
          "name": "stdout",
          "output_type": "stream",
          "text": [
            "last subtoken accuracy (GPT): 0.2507277314185911\n",
            "last subtoken accuracy (boosted GPT): 0.43663885115466716\n"
          ]
        }
      ],
      "source": [
        "lt_acc = first_token_accuracy(y_pred, y_tokenized_rev)\n",
        "lt_acc_boost = first_token_accuracy(y_pred_boosted, y_tokenized_rev)\n",
        "print(f\"last subtoken accuracy (GPT): {lt_acc}\\nlast subtoken accuracy (boosted GPT): {lt_acc_boost}\")"
      ]
    },
    {
      "cell_type": "code",
      "execution_count": 26,
      "metadata": {
        "colab": {
          "base_uri": "https://localhost:8080/"
        },
        "id": "GckBR6rTlRC8",
        "outputId": "c2901c6b-3870-466b-ef71-d4e5a46f81ef"
      },
      "outputs": [
        {
          "name": "stdout",
          "output_type": "stream",
          "text": [
            "first subtoken accuracy (GPT): 0.3283524160683097\n",
            "first subtoken accuracy (boosted GPT): 0.5581214826314768\n"
          ]
        }
      ],
      "source": [
        "ft_acc = first_token_accuracy(y_pred, y_tokenized)\n",
        "ft_acc_boost = first_token_accuracy(y_pred_boosted, y_tokenized)\n",
        "print(f\"first subtoken accuracy (GPT): {ft_acc}\\nfirst subtoken accuracy (boosted GPT): {ft_acc_boost}\")"
      ]
    },
    {
      "cell_type": "markdown",
      "metadata": {
        "id": "jiHq7aofZz52"
      },
      "source": [
        "### first and last subtoken of last word accuracy with beam search"
      ]
    },
    {
      "cell_type": "code",
      "execution_count": 27,
      "metadata": {
        "colab": {
          "base_uri": "https://localhost:8080/"
        },
        "id": "EVFDoPzKZ1tc",
        "outputId": "a3f19b3f-bf45-40e4-a10c-c3cd1f75e497"
      },
      "outputs": [
        {
          "name": "stdout",
          "output_type": "stream",
          "text": [
            "last subtoken accuracy with beam (GPT): 0.46128468853095284\n",
            "last subtoken accuracy with beam (boosted GPT): 0.6041141082864351\n"
          ]
        }
      ],
      "source": [
        "lt_beam = first_token_w_beam_accuracy(y_pred_beam, y_tokenized_rev)\n",
        "lt_beam_boost = first_token_w_beam_accuracy(y_pred_boosted_beam, y_tokenized_rev)\n",
        "print(f\"last subtoken accuracy with beam (GPT): {lt_beam}\\nlast subtoken accuracy with beam (boosted GPT): {lt_beam_boost}\")"
      ]
    },
    {
      "cell_type": "code",
      "execution_count": 24,
      "metadata": {
        "colab": {
          "base_uri": "https://localhost:8080/"
        },
        "id": "0ZLd-a4FiXOo",
        "outputId": "697f987f-2660-4c39-8ec6-31a0af6dc16d"
      },
      "outputs": [
        {
          "name": "stdout",
          "output_type": "stream",
          "text": [
            "first subtoken accuracy with beam (GPT): 0.6037259848631865\n",
            "first subtoken accuracy with beam (boosted GPT): 0.7826508829807879\n"
          ]
        }
      ],
      "source": [
        "ft_beam = first_token_w_beam_accuracy(y_pred_beam, y_tokenized)\n",
        "ft_beam_boost = first_token_w_beam_accuracy(y_pred_boosted_beam, y_tokenized)\n",
        "print(f\"first subtoken accuracy with beam (GPT): {ft_beam}\\nfirst subtoken accuracy with beam (boosted GPT): {ft_beam_boost}\")"
      ]
    }
  ],
  "metadata": {
    "accelerator": "GPU",
    "colab": {
      "provenance": []
    },
    "gpuClass": "standard",
    "kernelspec": {
      "display_name": "Python 3",
      "name": "python3"
    },
    "language_info": {
      "name": "python"
    },
    "widgets": {
      "application/vnd.jupyter.widget-state+json": {
        "5b542e443bad43d387ec7e7bf82ace1e": {
          "model_module": "@jupyter-widgets/controls",
          "model_module_version": "1.5.0",
          "model_name": "DescriptionStyleModel",
          "state": {
            "_model_module": "@jupyter-widgets/controls",
            "_model_module_version": "1.5.0",
            "_model_name": "DescriptionStyleModel",
            "_view_count": null,
            "_view_module": "@jupyter-widgets/base",
            "_view_module_version": "1.2.0",
            "_view_name": "StyleView",
            "description_width": ""
          }
        },
        "62854ac01723457389dac024f3cf2cf6": {
          "model_module": "@jupyter-widgets/controls",
          "model_module_version": "1.5.0",
          "model_name": "FloatProgressModel",
          "state": {
            "_dom_classes": [],
            "_model_module": "@jupyter-widgets/controls",
            "_model_module_version": "1.5.0",
            "_model_name": "FloatProgressModel",
            "_view_count": null,
            "_view_module": "@jupyter-widgets/controls",
            "_view_module_version": "1.5.0",
            "_view_name": "ProgressView",
            "bar_style": "success",
            "description": "",
            "description_tooltip": null,
            "layout": "IPY_MODEL_cabbae3b616645c3bfddfef3f1854cfb",
            "max": 1,
            "min": 0,
            "orientation": "horizontal",
            "style": "IPY_MODEL_f388ebebd1404f87be6e5894c40daad9",
            "value": 1
          }
        },
        "6c943f0e37044b2fb6f4075b51c69d79": {
          "model_module": "@jupyter-widgets/base",
          "model_module_version": "1.2.0",
          "model_name": "LayoutModel",
          "state": {
            "_model_module": "@jupyter-widgets/base",
            "_model_module_version": "1.2.0",
            "_model_name": "LayoutModel",
            "_view_count": null,
            "_view_module": "@jupyter-widgets/base",
            "_view_module_version": "1.2.0",
            "_view_name": "LayoutView",
            "align_content": null,
            "align_items": null,
            "align_self": null,
            "border": null,
            "bottom": null,
            "display": null,
            "flex": null,
            "flex_flow": null,
            "grid_area": null,
            "grid_auto_columns": null,
            "grid_auto_flow": null,
            "grid_auto_rows": null,
            "grid_column": null,
            "grid_gap": null,
            "grid_row": null,
            "grid_template_areas": null,
            "grid_template_columns": null,
            "grid_template_rows": null,
            "height": null,
            "justify_content": null,
            "justify_items": null,
            "left": null,
            "margin": null,
            "max_height": null,
            "max_width": null,
            "min_height": null,
            "min_width": null,
            "object_fit": null,
            "object_position": null,
            "order": null,
            "overflow": null,
            "overflow_x": null,
            "overflow_y": null,
            "padding": null,
            "right": null,
            "top": null,
            "visibility": null,
            "width": null
          }
        },
        "7a43da6d2ef745349b1cc4585124fdfa": {
          "model_module": "@jupyter-widgets/controls",
          "model_module_version": "1.5.0",
          "model_name": "DescriptionStyleModel",
          "state": {
            "_model_module": "@jupyter-widgets/controls",
            "_model_module_version": "1.5.0",
            "_model_name": "DescriptionStyleModel",
            "_view_count": null,
            "_view_module": "@jupyter-widgets/base",
            "_view_module_version": "1.2.0",
            "_view_name": "StyleView",
            "description_width": ""
          }
        },
        "88c2cf7cfeef426fb83425e7645b41ee": {
          "model_module": "@jupyter-widgets/controls",
          "model_module_version": "1.5.0",
          "model_name": "HBoxModel",
          "state": {
            "_dom_classes": [],
            "_model_module": "@jupyter-widgets/controls",
            "_model_module_version": "1.5.0",
            "_model_name": "HBoxModel",
            "_view_count": null,
            "_view_module": "@jupyter-widgets/controls",
            "_view_module_version": "1.5.0",
            "_view_name": "HBoxView",
            "box_style": "",
            "children": [
              "IPY_MODEL_89dcf46161474131b94916f37268c9fb",
              "IPY_MODEL_62854ac01723457389dac024f3cf2cf6",
              "IPY_MODEL_9b9fc6012597439ab10c59a5c72168c9"
            ],
            "layout": "IPY_MODEL_b5cd478e25744b5bb6d8de442d4ba997"
          }
        },
        "89dcf46161474131b94916f37268c9fb": {
          "model_module": "@jupyter-widgets/controls",
          "model_module_version": "1.5.0",
          "model_name": "HTMLModel",
          "state": {
            "_dom_classes": [],
            "_model_module": "@jupyter-widgets/controls",
            "_model_module_version": "1.5.0",
            "_model_name": "HTMLModel",
            "_view_count": null,
            "_view_module": "@jupyter-widgets/controls",
            "_view_module_version": "1.5.0",
            "_view_name": "HTMLView",
            "description": "",
            "description_tooltip": null,
            "layout": "IPY_MODEL_6c943f0e37044b2fb6f4075b51c69d79",
            "placeholder": "​",
            "style": "IPY_MODEL_5b542e443bad43d387ec7e7bf82ace1e",
            "value": "100%"
          }
        },
        "9b9fc6012597439ab10c59a5c72168c9": {
          "model_module": "@jupyter-widgets/controls",
          "model_module_version": "1.5.0",
          "model_name": "HTMLModel",
          "state": {
            "_dom_classes": [],
            "_model_module": "@jupyter-widgets/controls",
            "_model_module_version": "1.5.0",
            "_model_name": "HTMLModel",
            "_view_count": null,
            "_view_module": "@jupyter-widgets/controls",
            "_view_module_version": "1.5.0",
            "_view_name": "HTMLView",
            "description": "",
            "description_tooltip": null,
            "layout": "IPY_MODEL_a45c6526c9384f3c86c0d9822309d5fa",
            "placeholder": "​",
            "style": "IPY_MODEL_7a43da6d2ef745349b1cc4585124fdfa",
            "value": " 1/1 [00:00&lt;00:00, 11.05it/s]"
          }
        },
        "a45c6526c9384f3c86c0d9822309d5fa": {
          "model_module": "@jupyter-widgets/base",
          "model_module_version": "1.2.0",
          "model_name": "LayoutModel",
          "state": {
            "_model_module": "@jupyter-widgets/base",
            "_model_module_version": "1.2.0",
            "_model_name": "LayoutModel",
            "_view_count": null,
            "_view_module": "@jupyter-widgets/base",
            "_view_module_version": "1.2.0",
            "_view_name": "LayoutView",
            "align_content": null,
            "align_items": null,
            "align_self": null,
            "border": null,
            "bottom": null,
            "display": null,
            "flex": null,
            "flex_flow": null,
            "grid_area": null,
            "grid_auto_columns": null,
            "grid_auto_flow": null,
            "grid_auto_rows": null,
            "grid_column": null,
            "grid_gap": null,
            "grid_row": null,
            "grid_template_areas": null,
            "grid_template_columns": null,
            "grid_template_rows": null,
            "height": null,
            "justify_content": null,
            "justify_items": null,
            "left": null,
            "margin": null,
            "max_height": null,
            "max_width": null,
            "min_height": null,
            "min_width": null,
            "object_fit": null,
            "object_position": null,
            "order": null,
            "overflow": null,
            "overflow_x": null,
            "overflow_y": null,
            "padding": null,
            "right": null,
            "top": null,
            "visibility": null,
            "width": null
          }
        },
        "b5cd478e25744b5bb6d8de442d4ba997": {
          "model_module": "@jupyter-widgets/base",
          "model_module_version": "1.2.0",
          "model_name": "LayoutModel",
          "state": {
            "_model_module": "@jupyter-widgets/base",
            "_model_module_version": "1.2.0",
            "_model_name": "LayoutModel",
            "_view_count": null,
            "_view_module": "@jupyter-widgets/base",
            "_view_module_version": "1.2.0",
            "_view_name": "LayoutView",
            "align_content": null,
            "align_items": null,
            "align_self": null,
            "border": null,
            "bottom": null,
            "display": null,
            "flex": null,
            "flex_flow": null,
            "grid_area": null,
            "grid_auto_columns": null,
            "grid_auto_flow": null,
            "grid_auto_rows": null,
            "grid_column": null,
            "grid_gap": null,
            "grid_row": null,
            "grid_template_areas": null,
            "grid_template_columns": null,
            "grid_template_rows": null,
            "height": null,
            "justify_content": null,
            "justify_items": null,
            "left": null,
            "margin": null,
            "max_height": null,
            "max_width": null,
            "min_height": null,
            "min_width": null,
            "object_fit": null,
            "object_position": null,
            "order": null,
            "overflow": null,
            "overflow_x": null,
            "overflow_y": null,
            "padding": null,
            "right": null,
            "top": null,
            "visibility": null,
            "width": null
          }
        },
        "cabbae3b616645c3bfddfef3f1854cfb": {
          "model_module": "@jupyter-widgets/base",
          "model_module_version": "1.2.0",
          "model_name": "LayoutModel",
          "state": {
            "_model_module": "@jupyter-widgets/base",
            "_model_module_version": "1.2.0",
            "_model_name": "LayoutModel",
            "_view_count": null,
            "_view_module": "@jupyter-widgets/base",
            "_view_module_version": "1.2.0",
            "_view_name": "LayoutView",
            "align_content": null,
            "align_items": null,
            "align_self": null,
            "border": null,
            "bottom": null,
            "display": null,
            "flex": null,
            "flex_flow": null,
            "grid_area": null,
            "grid_auto_columns": null,
            "grid_auto_flow": null,
            "grid_auto_rows": null,
            "grid_column": null,
            "grid_gap": null,
            "grid_row": null,
            "grid_template_areas": null,
            "grid_template_columns": null,
            "grid_template_rows": null,
            "height": null,
            "justify_content": null,
            "justify_items": null,
            "left": null,
            "margin": null,
            "max_height": null,
            "max_width": null,
            "min_height": null,
            "min_width": null,
            "object_fit": null,
            "object_position": null,
            "order": null,
            "overflow": null,
            "overflow_x": null,
            "overflow_y": null,
            "padding": null,
            "right": null,
            "top": null,
            "visibility": null,
            "width": null
          }
        },
        "f388ebebd1404f87be6e5894c40daad9": {
          "model_module": "@jupyter-widgets/controls",
          "model_module_version": "1.5.0",
          "model_name": "ProgressStyleModel",
          "state": {
            "_model_module": "@jupyter-widgets/controls",
            "_model_module_version": "1.5.0",
            "_model_name": "ProgressStyleModel",
            "_view_count": null,
            "_view_module": "@jupyter-widgets/base",
            "_view_module_version": "1.2.0",
            "_view_name": "StyleView",
            "bar_color": null,
            "description_width": ""
          }
        }
      }
    }
  },
  "nbformat": 4,
  "nbformat_minor": 0
}
